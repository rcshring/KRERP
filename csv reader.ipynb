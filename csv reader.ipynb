{
 "cells": [
  {
   "cell_type": "code",
   "execution_count": 59,
   "id": "e9578128",
   "metadata": {},
   "outputs": [
    {
     "name": "stdout",
     "output_type": "stream",
     "text": [
      "['name', 'age', 'address']\n",
      "name\n",
      "age\n",
      "address\n",
      "['Rahul', '50', 'Kamothe']\n",
      "Rahul\n",
      "50\n",
      "Kamothe\n",
      "['ABC', '40', 'Panvel']\n",
      "ABC\n",
      "40\n",
      "Panvel\n",
      "['XYZ', '30', 'Dadar']\n",
      "XYZ\n",
      "30\n",
      "Dadar\n"
     ]
    }
   ],
   "source": [
    "#with open('d:\\python csv file.csv','r') as f:\n",
    "#    with open('d:\\pythin txt file.txt','w') as g:\n",
    "#        for line in f:\n",
    "#            list1 = line.split(',')\n",
    "#            str1 = ' '.join(list1)\n",
    "#            g.write(str1)\n",
    "import csv\n",
    "import xlsxwriter\n",
    "\n",
    "xw = xlsxwriter.Workbook('d:\\python excel file.xlsx')\n",
    "ws1 = xw.add_worksheet('1st row')\n",
    "\n",
    "with open('d:\\python csv file.csv','r') as f:\n",
    "    data = csv.reader(f)    \n",
    "    #header = next(data)\n",
    "    #print(header)\n",
    "    j = 0\n",
    "    for line in data:\n",
    "        print(line)\n",
    "        for i in range(len(line)):\n",
    "            print(line[i])\n",
    "            ws1.write(j,i,line[i])\n",
    "        j = j + 1\n",
    "        '''\n",
    "        #j = 0\n",
    "        #print(line)\n",
    "        #print(len(line))\n",
    "        for i in range(len(line)):\n",
    "            print(line[i])\n",
    "            for j in range(len(line)):\n",
    "                print(i,j)\n",
    "        #for t in line:\n",
    "            #print(t)\n",
    "            #for i in range(len(line)):\n",
    "                #for j in range(i):\n",
    "                    #print(i,'j=',j)\n",
    "                print('i=',i, ' j = ',j , '  value = ',line[i][j])\n",
    "                ws1.write(i,j,line[i][j])\n",
    "                    #j = j + 1\n",
    "        '''\n",
    "xw.close()            "
   ]
  },
  {
   "cell_type": "code",
   "execution_count": 88,
   "id": "1209b508",
   "metadata": {},
   "outputs": [
    {
     "name": "stdout",
     "output_type": "stream",
     "text": [
      "address\n",
      "Kamothe\n",
      "Panvel\n",
      "Dadar\n"
     ]
    }
   ],
   "source": [
    "import xlrd\n",
    "\n",
    "wb = xlrd.open_workbook('d:\\python excel file.xls')\n",
    "ws = wb.sheet_by_index(0)\n",
    "#print(ws.nrows)\n",
    "#print(ws.ncols)\n",
    "for i in range(ws.nrows):\n",
    "    #for j in range(ws.ncols):\n",
    "    print(ws.cell_value(i,2))\n",
    "       \n",
    "\n",
    "#print(ws.row_len(0))\n",
    "#print(ws.cell_value(0,0))\n"
   ]
  },
  {
   "cell_type": "code",
   "execution_count": 79,
   "id": "2bf06779",
   "metadata": {},
   "outputs": [
    {
     "name": "stdout",
     "output_type": "stream",
     "text": [
      "Help on method row_len in module xlrd.sheet:\n",
      "\n",
      "row_len(rowx) method of xlrd.sheet.Sheet instance\n",
      "    Returns the effective number of cells in the given row. For use with\n",
      "    ``open_workbook(ragged_rows=True)`` which is likely to produce rows\n",
      "    with fewer than :attr:`~Sheet.ncols` cells.\n",
      "    \n",
      "    .. versionadded:: 0.7.2\n",
      "\n"
     ]
    }
   ],
   "source": [
    "help (ws.row_len)"
   ]
  },
  {
   "cell_type": "code",
   "execution_count": 116,
   "id": "4a70c0c8",
   "metadata": {},
   "outputs": [
    {
     "name": "stdout",
     "output_type": "stream",
     "text": [
      "{'message': 'success', 'people': [{'name': 'Mark Vande Hei', 'craft': 'ISS'}, {'name': 'Pyotr Dubrov', 'craft': 'ISS'}, {'name': 'Anton Shkaplerov', 'craft': 'ISS'}, {'name': 'Zhai Zhigang', 'craft': 'Shenzhou 13'}, {'name': 'Wang Yaping', 'craft': 'Shenzhou 13'}, {'name': 'Ye Guangfu', 'craft': 'Shenzhou 13'}, {'name': 'Raja Chari', 'craft': 'ISS'}, {'name': 'Tom Marshburn', 'craft': 'ISS'}, {'name': 'Kayla Barron', 'craft': 'ISS'}, {'name': 'Matthias Maurer', 'craft': 'ISS'}], 'number': 10}\n",
      "message is  success\n",
      "name is  Mark Vande Hei  & craft is  ISS\n",
      "name is  Pyotr Dubrov  & craft is  ISS\n",
      "name is  Anton Shkaplerov  & craft is  ISS\n",
      "name is  Zhai Zhigang  & craft is  Shenzhou 13\n",
      "name is  Wang Yaping  & craft is  Shenzhou 13\n",
      "name is  Ye Guangfu  & craft is  Shenzhou 13\n",
      "name is  Raja Chari  & craft is  ISS\n",
      "name is  Tom Marshburn  & craft is  ISS\n",
      "name is  Kayla Barron  & craft is  ISS\n",
      "name is  Matthias Maurer  & craft is  ISS\n",
      "number is  10\n"
     ]
    }
   ],
   "source": [
    "import json\n",
    "f = open(\"D:/nasa.json\")\n",
    "d = json.load(f)\n",
    "print(d)\n",
    "\n",
    "print(\"message is \" , d[\"message\"])\n",
    "for keypeople in d[\"people\"]:\n",
    "    #for keyname in keypeople[\"name\"]:\n",
    "    print(\"name is \" , keypeople[\"name\"] , \" & craft is \",keypeople[\"craft\"])\n",
    "print(\"number is \" ,d[\"number\"])    "
   ]
  },
  {
   "cell_type": "code",
   "execution_count": 121,
   "id": "e67b0e74",
   "metadata": {},
   "outputs": [
    {
     "data": {
      "image/png": "[encoded data removed]",
      "text/plain": [
       "<Figure size 432x288 with 1 Axes>"
      ]
     },
     "metadata": {
      "needs_background": "light"
     },
     "output_type": "display_data"
    }
   ],
   "source": [
    "import matplotlib.pyplot as plt\n",
    "import random\n",
    "x = [random.randint(0,100) for x in range(0,100)]\n",
    "y = [random.randint(0,100) for x in range(0,100)]\n",
    "\n",
    "plt.scatter(x,y)\n",
    "\n",
    "plt.show()"
   ]
  },
  {
   "cell_type": "code",
   "execution_count": null,
   "id": "adf370ce",
   "metadata": {},
   "outputs": [],
   "source": []
  }
 ],
 "metadata": {
  "kernelspec": {
   "display_name": "Python 3",
   "language": "python",
   "name": "python3"
  },
  "language_info": {
   "codemirror_mode": {
    "name": "ipython",
    "version": 3
   },
   "file_extension": ".py",
   "mimetype": "text/x-python",
   "name": "python",
   "nbconvert_exporter": "python",
   "pygments_lexer": "ipython3",
   "version": "3.8.8"
  }
 },
 "nbformat": 4,
 "nbformat_minor": 5
}
